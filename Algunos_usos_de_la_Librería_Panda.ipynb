{
  "cells": [
    {
      "cell_type": "markdown",
      "metadata": {
        "id": "view-in-github",
        "colab_type": "text"
      },
      "source": [
        "<a href=\"https://colab.research.google.com/github/urkunina93/data-cleaning/blob/main/Algunos_usos_de_la_Librer%C3%ADa_Panda.ipynb\" target=\"_parent\"><img src=\"https://colab.research.google.com/assets/colab-badge.svg\" alt=\"Open In Colab\"/></a>"
      ]
    },
    {
      "cell_type": "markdown",
      "id": "64fab58f",
      "metadata": {
        "id": "64fab58f"
      },
      "source": [
        "# Algunos usos de la Librería Panda"
      ]
    },
    {
      "cell_type": "markdown",
      "id": "2465ffb9",
      "metadata": {
        "id": "2465ffb9"
      },
      "source": [
        "### Cargando archivo desde URL"
      ]
    },
    {
      "cell_type": "code",
      "execution_count": null,
      "id": "92be8ea9",
      "metadata": {
        "id": "92be8ea9",
        "outputId": "45e32b42-9a9e-4112-f3a8-e534915149ec"
      },
      "outputs": [
        {
          "name": "stdout",
          "output_type": "stream",
          "text": [
            "     Pregnancies  Glucose  BloodPressure  SkinThickness  Insulin   BMI  DiabetesPedigreeFunction  Age  Outcome\n",
            "0              6      148             72             35        0  33.6                     0.627   50        1\n",
            "1              1       85             66             29        0  26.6                     0.351   31        0\n",
            "2              8      183             64              0        0  23.3                     0.672   32        1\n",
            "3              1       89             66             23       94  28.1                     0.167   21        0\n",
            "4              0      137             40             35      168  43.1                     2.288   33        1\n",
            "..           ...      ...            ...            ...      ...   ...                       ...  ...      ...\n",
            "763           10      101             76             48      180  32.9                     0.171   63        0\n",
            "764            2      122             70             27        0  36.8                     0.340   27        0\n",
            "765            5      121             72             23      112  26.2                     0.245   30        0\n",
            "766            1      126             60              0        0  30.1                     0.349   47        1\n",
            "767            1       93             70             31        0  30.4                     0.315   23        0\n",
            "\n",
            "[768 rows x 9 columns]\n"
          ]
        }
      ],
      "source": [
        "import pandas as pd\n",
        "import numpy as np\n",
        "\n",
        "#Se crea el objeto url, definiendo la dirección web del dataset a utilizar\n",
        "url = \"https://raw.githubusercontent.com/npradaschnor/Pima-Indians-Diabetes-Dataset/master/diabetes.csv\"\n",
        "\n",
        "# Se crea el objeto del dataset mediante el uso de la función de pandas.read_csv\n",
        "Data = pd.read_csv(url)\n",
        "\n",
        "#Se muestra las primeras cinco y últimas filas del dataset por defecto, sin embargo, se puede regular\n",
        "#el número de filas y columnas a mostrar\n",
        "\n",
        "pd.set_option('display.width', 120)\n",
        "pd.options.display.max_columns = 10\n",
        "pd.options.display.max_rows = 20\n",
        "print(Data)\n"
      ]
    },
    {
      "cell_type": "markdown",
      "id": "0af40df5",
      "metadata": {
        "id": "0af40df5"
      },
      "source": [
        "## Cargando archvio de extensión .xlsx (desde el ordenador)"
      ]
    },
    {
      "cell_type": "code",
      "execution_count": null,
      "id": "b62eed5a",
      "metadata": {
        "scrolled": true,
        "id": "b62eed5a",
        "outputId": "cc83fff3-de3f-4265-d1d8-fdfcebadf8df"
      },
      "outputs": [
        {
          "data": {
            "text/html": [
              "<div>\n",
              "<style scoped>\n",
              "    .dataframe tbody tr th:only-of-type {\n",
              "        vertical-align: middle;\n",
              "    }\n",
              "\n",
              "    .dataframe tbody tr th {\n",
              "        vertical-align: top;\n",
              "    }\n",
              "\n",
              "    .dataframe thead th {\n",
              "        text-align: right;\n",
              "    }\n",
              "</style>\n",
              "<table border=\"1\" class=\"dataframe\">\n",
              "  <thead>\n",
              "    <tr style=\"text-align: right;\">\n",
              "      <th></th>\n",
              "      <th>Unnamed: 0</th>\n",
              "      <th>Unnamed: 1</th>\n",
              "      <th>Unnamed: 2</th>\n",
              "      <th>Unnamed: 3</th>\n",
              "      <th>Unnamed: 4</th>\n",
              "      <th>...</th>\n",
              "      <th>Unnamed: 11</th>\n",
              "      <th>Unnamed: 12</th>\n",
              "      <th>Unnamed: 13</th>\n",
              "      <th>Unnamed: 14</th>\n",
              "      <th>Unnamed: 15</th>\n",
              "    </tr>\n",
              "  </thead>\n",
              "  <tbody>\n",
              "    <tr>\n",
              "      <th>0</th>\n",
              "      <td>Población de 15 y más años de la C.A. de Euska...</td>\n",
              "      <td>NaN</td>\n",
              "      <td>NaN</td>\n",
              "      <td>NaN</td>\n",
              "      <td>NaN</td>\n",
              "      <td>...</td>\n",
              "      <td>NaN</td>\n",
              "      <td>NaN</td>\n",
              "      <td>NaN</td>\n",
              "      <td>NaN</td>\n",
              "      <td>NaN</td>\n",
              "    </tr>\n",
              "    <tr>\n",
              "      <th>1</th>\n",
              "      <td>NaN</td>\n",
              "      <td>NaN</td>\n",
              "      <td>NaN</td>\n",
              "      <td>NaN</td>\n",
              "      <td>NaN</td>\n",
              "      <td>...</td>\n",
              "      <td>NaN</td>\n",
              "      <td>NaN</td>\n",
              "      <td>NaN</td>\n",
              "      <td>NaN</td>\n",
              "      <td>NaN</td>\n",
              "    </tr>\n",
              "    <tr>\n",
              "      <th>2</th>\n",
              "      <td>NaN</td>\n",
              "      <td>NaN</td>\n",
              "      <td>NaN</td>\n",
              "      <td>NaN</td>\n",
              "      <td>NaN</td>\n",
              "      <td>...</td>\n",
              "      <td>NaN</td>\n",
              "      <td>NaN</td>\n",
              "      <td>NaN</td>\n",
              "      <td>NaN</td>\n",
              "      <td>NaN</td>\n",
              "    </tr>\n",
              "    <tr>\n",
              "      <th>3</th>\n",
              "      <td>NaN</td>\n",
              "      <td>C.A. de Euskadi</td>\n",
              "      <td>NaN</td>\n",
              "      <td>NaN</td>\n",
              "      <td>NaN</td>\n",
              "      <td>...</td>\n",
              "      <td>Mujeres</td>\n",
              "      <td>NaN</td>\n",
              "      <td>NaN</td>\n",
              "      <td>NaN</td>\n",
              "      <td>NaN</td>\n",
              "    </tr>\n",
              "    <tr>\n",
              "      <th>4</th>\n",
              "      <td>NaN</td>\n",
              "      <td>Total</td>\n",
              "      <td>15-24</td>\n",
              "      <td>25-44</td>\n",
              "      <td>45-64</td>\n",
              "      <td>...</td>\n",
              "      <td>Total</td>\n",
              "      <td>15-24</td>\n",
              "      <td>25-44</td>\n",
              "      <td>45-64</td>\n",
              "      <td>65 y más</td>\n",
              "    </tr>\n",
              "    <tr>\n",
              "      <th>...</th>\n",
              "      <td>...</td>\n",
              "      <td>...</td>\n",
              "      <td>...</td>\n",
              "      <td>...</td>\n",
              "      <td>...</td>\n",
              "      <td>...</td>\n",
              "      <td>...</td>\n",
              "      <td>...</td>\n",
              "      <td>...</td>\n",
              "      <td>...</td>\n",
              "      <td>...</td>\n",
              "    </tr>\n",
              "    <tr>\n",
              "      <th>40</th>\n",
              "      <td>Comprar poductos o servicios</td>\n",
              "      <td>1.928782</td>\n",
              "      <td>6.324075</td>\n",
              "      <td>3.643322</td>\n",
              "      <td>3.668046</td>\n",
              "      <td>...</td>\n",
              "      <td>2.97294</td>\n",
              "      <td>8.603632</td>\n",
              "      <td>5.028437</td>\n",
              "      <td>5.220127</td>\n",
              "      <td>12.220469</td>\n",
              "    </tr>\n",
              "    <tr>\n",
              "      <th>41</th>\n",
              "      <td>NaN</td>\n",
              "      <td>NaN</td>\n",
              "      <td>NaN</td>\n",
              "      <td>NaN</td>\n",
              "      <td>NaN</td>\n",
              "      <td>...</td>\n",
              "      <td>NaN</td>\n",
              "      <td>NaN</td>\n",
              "      <td>NaN</td>\n",
              "      <td>NaN</td>\n",
              "      <td>NaN</td>\n",
              "    </tr>\n",
              "    <tr>\n",
              "      <th>42</th>\n",
              "      <td>(*)  Servicios utilizados en  los 12 últimos m...</td>\n",
              "      <td>NaN</td>\n",
              "      <td>NaN</td>\n",
              "      <td>NaN</td>\n",
              "      <td>NaN</td>\n",
              "      <td>...</td>\n",
              "      <td>NaN</td>\n",
              "      <td>NaN</td>\n",
              "      <td>NaN</td>\n",
              "      <td>NaN</td>\n",
              "      <td>NaN</td>\n",
              "    </tr>\n",
              "    <tr>\n",
              "      <th>43</th>\n",
              "      <td>NaN</td>\n",
              "      <td>NaN</td>\n",
              "      <td>NaN</td>\n",
              "      <td>NaN</td>\n",
              "      <td>NaN</td>\n",
              "      <td>...</td>\n",
              "      <td>NaN</td>\n",
              "      <td>NaN</td>\n",
              "      <td>NaN</td>\n",
              "      <td>NaN</td>\n",
              "      <td>NaN</td>\n",
              "    </tr>\n",
              "    <tr>\n",
              "      <th>44</th>\n",
              "      <td>Fuente: Eustat. Encuesta de la sociedad de la ...</td>\n",
              "      <td>NaN</td>\n",
              "      <td>NaN</td>\n",
              "      <td>NaN</td>\n",
              "      <td>NaN</td>\n",
              "      <td>...</td>\n",
              "      <td>NaN</td>\n",
              "      <td>NaN</td>\n",
              "      <td>NaN</td>\n",
              "      <td>NaN</td>\n",
              "      <td>NaN</td>\n",
              "    </tr>\n",
              "  </tbody>\n",
              "</table>\n",
              "<p>45 rows × 16 columns</p>\n",
              "</div>"
            ],
            "text/plain": [
              "                                           Unnamed: 0       Unnamed: 1 Unnamed: 2 Unnamed: 3 Unnamed: 4  ...  \\\n",
              "0   Población de 15 y más años de la C.A. de Euska...              NaN        NaN        NaN        NaN  ...   \n",
              "1                                                 NaN              NaN        NaN        NaN        NaN  ...   \n",
              "2                                                 NaN              NaN        NaN        NaN        NaN  ...   \n",
              "3                                                 NaN  C.A. de Euskadi        NaN        NaN        NaN  ...   \n",
              "4                                                 NaN            Total      15-24      25-44      45-64  ...   \n",
              "..                                                ...              ...        ...        ...        ...  ...   \n",
              "40                       Comprar poductos o servicios         1.928782   6.324075   3.643322   3.668046  ...   \n",
              "41                                                NaN              NaN        NaN        NaN        NaN  ...   \n",
              "42  (*)  Servicios utilizados en  los 12 últimos m...              NaN        NaN        NaN        NaN  ...   \n",
              "43                                                NaN              NaN        NaN        NaN        NaN  ...   \n",
              "44  Fuente: Eustat. Encuesta de la sociedad de la ...              NaN        NaN        NaN        NaN  ...   \n",
              "\n",
              "   Unnamed: 11 Unnamed: 12 Unnamed: 13 Unnamed: 14 Unnamed: 15  \n",
              "0          NaN         NaN         NaN         NaN         NaN  \n",
              "1          NaN         NaN         NaN         NaN         NaN  \n",
              "2          NaN         NaN         NaN         NaN         NaN  \n",
              "3      Mujeres         NaN         NaN         NaN         NaN  \n",
              "4        Total       15-24       25-44       45-64    65 y más  \n",
              "..         ...         ...         ...         ...         ...  \n",
              "40     2.97294    8.603632    5.028437    5.220127   12.220469  \n",
              "41         NaN         NaN         NaN         NaN         NaN  \n",
              "42         NaN         NaN         NaN         NaN         NaN  \n",
              "43         NaN         NaN         NaN         NaN         NaN  \n",
              "44         NaN         NaN         NaN         NaN         NaN  \n",
              "\n",
              "[45 rows x 16 columns]"
            ]
          },
          "execution_count": 3,
          "metadata": {},
          "output_type": "execute_result"
        }
      ],
      "source": [
        "#carga un dataset desde el ordenador con tipo de archivo .xlsx\n",
        "pd.read_excel(\"prueba.xlsx\")"
      ]
    },
    {
      "cell_type": "markdown",
      "id": "b00288b6",
      "metadata": {
        "id": "b00288b6"
      },
      "source": [
        "# Cargando un archivo con extensión json (JavaScript Object Notation)"
      ]
    },
    {
      "cell_type": "code",
      "execution_count": null,
      "id": "4d9f72f9",
      "metadata": {
        "scrolled": false,
        "id": "4d9f72f9",
        "outputId": "41035ab3-ca66-4073-d502-046d2d1d85e3"
      },
      "outputs": [
        {
          "data": {
            "text/html": [
              "<div>\n",
              "<style scoped>\n",
              "    .dataframe tbody tr th:only-of-type {\n",
              "        vertical-align: middle;\n",
              "    }\n",
              "\n",
              "    .dataframe tbody tr th {\n",
              "        vertical-align: top;\n",
              "    }\n",
              "\n",
              "    .dataframe thead th {\n",
              "        text-align: right;\n",
              "    }\n",
              "</style>\n",
              "<table border=\"1\" class=\"dataframe\">\n",
              "  <thead>\n",
              "    <tr style=\"text-align: right;\">\n",
              "      <th></th>\n",
              "      <th>Nombre</th>\n",
              "      <th>MetaData</th>\n",
              "      <th>Data</th>\n",
              "    </tr>\n",
              "  </thead>\n",
              "  <tbody>\n",
              "    <tr>\n",
              "      <th>0</th>\n",
              "      <td>A. Sectores manufactureros de alta y media-alt...</td>\n",
              "      <td>[{'Variable': {'Nombre': 'rama de actividad', ...</td>\n",
              "      <td>[{'Valor': 997.0}]</td>\n",
              "    </tr>\n",
              "    <tr>\n",
              "      <th>1</th>\n",
              "      <td>A. Sectores manufactureros de alta y media-alt...</td>\n",
              "      <td>[{'Variable': {'Nombre': 'rama de actividad', ...</td>\n",
              "      <td>[{'Valor': 10011314.0}]</td>\n",
              "    </tr>\n",
              "    <tr>\n",
              "      <th>2</th>\n",
              "      <td>A. Sectores manufactureros de alta y media-alt...</td>\n",
              "      <td>[{'Variable': {'Nombre': 'rama de actividad', ...</td>\n",
              "      <td>[{'Valor': 100.0}]</td>\n",
              "    </tr>\n",
              "    <tr>\n",
              "      <th>3</th>\n",
              "      <td>A. Sectores manufactureros de alta y media-alt...</td>\n",
              "      <td>[{'Variable': {'Nombre': 'rama de actividad', ...</td>\n",
              "      <td>[{'Valor': 9580061.0}]</td>\n",
              "    </tr>\n",
              "    <tr>\n",
              "      <th>4</th>\n",
              "      <td>A. Sectores manufactureros de alta y media-alt...</td>\n",
              "      <td>[{'Variable': {'Nombre': 'rama de actividad', ...</td>\n",
              "      <td>[{'Valor': 1661917.0}]</td>\n",
              "    </tr>\n",
              "    <tr>\n",
              "      <th>...</th>\n",
              "      <td>...</td>\n",
              "      <td>...</td>\n",
              "      <td>...</td>\n",
              "    </tr>\n",
              "    <tr>\n",
              "      <th>79</th>\n",
              "      <td>D.2 Investigación y desarrollo (CNAE 72), Cifr...</td>\n",
              "      <td>[{'Variable': {'Nombre': 'rama de actividad', ...</td>\n",
              "      <td>[{'Valor': 96981.0}]</td>\n",
              "    </tr>\n",
              "    <tr>\n",
              "      <th>80</th>\n",
              "      <td>D.2 Investigación y desarrollo (CNAE 72), Dist...</td>\n",
              "      <td>[{'Variable': {'Nombre': 'rama de actividad', ...</td>\n",
              "      <td>[{'Valor': 0.97}]</td>\n",
              "    </tr>\n",
              "    <tr>\n",
              "      <th>81</th>\n",
              "      <td>D.2 Investigación y desarrollo (CNAE 72), Vent...</td>\n",
              "      <td>[{'Variable': {'Nombre': 'rama de actividad', ...</td>\n",
              "      <td>[]</td>\n",
              "    </tr>\n",
              "    <tr>\n",
              "      <th>82</th>\n",
              "      <td>D.2 Investigación y desarrollo (CNAE 72), Valo...</td>\n",
              "      <td>[{'Variable': {'Nombre': 'rama de actividad', ...</td>\n",
              "      <td>[{'Valor': 90950.0}]</td>\n",
              "    </tr>\n",
              "    <tr>\n",
              "      <th>83</th>\n",
              "      <td>D.2 Investigación y desarrollo (CNAE 72), Dist...</td>\n",
              "      <td>[{'Variable': {'Nombre': 'rama de actividad', ...</td>\n",
              "      <td>[{'Valor': 5.47}]</td>\n",
              "    </tr>\n",
              "  </tbody>\n",
              "</table>\n",
              "<p>84 rows × 3 columns</p>\n",
              "</div>"
            ],
            "text/plain": [
              "                                               Nombre                                           MetaData  \\\n",
              "0   A. Sectores manufactureros de alta y media-alt...  [{'Variable': {'Nombre': 'rama de actividad', ...   \n",
              "1   A. Sectores manufactureros de alta y media-alt...  [{'Variable': {'Nombre': 'rama de actividad', ...   \n",
              "2   A. Sectores manufactureros de alta y media-alt...  [{'Variable': {'Nombre': 'rama de actividad', ...   \n",
              "3   A. Sectores manufactureros de alta y media-alt...  [{'Variable': {'Nombre': 'rama de actividad', ...   \n",
              "4   A. Sectores manufactureros de alta y media-alt...  [{'Variable': {'Nombre': 'rama de actividad', ...   \n",
              "..                                                ...                                                ...   \n",
              "79  D.2 Investigación y desarrollo (CNAE 72), Cifr...  [{'Variable': {'Nombre': 'rama de actividad', ...   \n",
              "80  D.2 Investigación y desarrollo (CNAE 72), Dist...  [{'Variable': {'Nombre': 'rama de actividad', ...   \n",
              "81  D.2 Investigación y desarrollo (CNAE 72), Vent...  [{'Variable': {'Nombre': 'rama de actividad', ...   \n",
              "82  D.2 Investigación y desarrollo (CNAE 72), Valo...  [{'Variable': {'Nombre': 'rama de actividad', ...   \n",
              "83  D.2 Investigación y desarrollo (CNAE 72), Dist...  [{'Variable': {'Nombre': 'rama de actividad', ...   \n",
              "\n",
              "                       Data  \n",
              "0        [{'Valor': 997.0}]  \n",
              "1   [{'Valor': 10011314.0}]  \n",
              "2        [{'Valor': 100.0}]  \n",
              "3    [{'Valor': 9580061.0}]  \n",
              "4    [{'Valor': 1661917.0}]  \n",
              "..                      ...  \n",
              "79     [{'Valor': 96981.0}]  \n",
              "80        [{'Valor': 0.97}]  \n",
              "81                       []  \n",
              "82     [{'Valor': 90950.0}]  \n",
              "83        [{'Valor': 5.47}]  \n",
              "\n",
              "[84 rows x 3 columns]"
            ]
          },
          "execution_count": 4,
          "metadata": {},
          "output_type": "execute_result"
        }
      ],
      "source": [
        "# Carga un Dataset desde un archivo json (JavaScript Object Notation)\n",
        "pd.read_json(\"https://servicios.ine.es/wstempus/js/es/DATOS_TABLA/53439?tip=AM\")"
      ]
    },
    {
      "cell_type": "markdown",
      "id": "9e7a8d5a",
      "metadata": {
        "id": "9e7a8d5a"
      },
      "source": [
        "# Crear Dataframes (tablas de datos en filas y columnas)"
      ]
    },
    {
      "cell_type": "code",
      "execution_count": null,
      "id": "63400040",
      "metadata": {
        "id": "63400040",
        "outputId": "5b1ca4c5-0fec-4979-dafa-2df071197110"
      },
      "outputs": [
        {
          "name": "stdout",
          "output_type": "stream",
          "text": [
            "          0         1         2         3\n",
            "0  0.678462  0.700007  0.711003  0.700981\n",
            "1  0.891778  0.919388  0.997979  0.896427\n",
            "2  0.332609  0.959409  0.003828  0.020826\n",
            "3  0.424036  0.386581  0.800547  0.950679\n",
            "4  0.185897  0.879836  0.521408  0.330359\n",
            "5  0.649819  0.955354  0.167899  0.137213\n",
            "6  0.323270  0.699095  0.318727  0.000722\n",
            "7  0.534014  0.776548  0.946514  0.661299\n"
          ]
        }
      ],
      "source": [
        "#Se crea una tabla con valores aleatorios # de filas y # de columnas\n",
        "Data1 = pd.DataFrame(np.random.rand(8,4))\n",
        "\n",
        "print(Data1)"
      ]
    },
    {
      "cell_type": "markdown",
      "id": "49e8b3da",
      "metadata": {
        "id": "49e8b3da"
      },
      "source": [
        "# Navegar entre los datos del Dataframe"
      ]
    },
    {
      "cell_type": "code",
      "execution_count": null,
      "id": "fac201f3",
      "metadata": {
        "id": "fac201f3",
        "outputId": "eb6f0435-f90c-4240-cc44-d9aa01834cc9"
      },
      "outputs": [
        {
          "data": {
            "text/html": [
              "<div>\n",
              "<style scoped>\n",
              "    .dataframe tbody tr th:only-of-type {\n",
              "        vertical-align: middle;\n",
              "    }\n",
              "\n",
              "    .dataframe tbody tr th {\n",
              "        vertical-align: top;\n",
              "    }\n",
              "\n",
              "    .dataframe thead th {\n",
              "        text-align: right;\n",
              "    }\n",
              "</style>\n",
              "<table border=\"1\" class=\"dataframe\">\n",
              "  <thead>\n",
              "    <tr style=\"text-align: right;\">\n",
              "      <th></th>\n",
              "      <th>Pregnancies</th>\n",
              "      <th>Glucose</th>\n",
              "      <th>BloodPressure</th>\n",
              "      <th>SkinThickness</th>\n",
              "      <th>Insulin</th>\n",
              "      <th>BMI</th>\n",
              "      <th>DiabetesPedigreeFunction</th>\n",
              "      <th>Age</th>\n",
              "      <th>Outcome</th>\n",
              "    </tr>\n",
              "  </thead>\n",
              "  <tbody>\n",
              "    <tr>\n",
              "      <th>0</th>\n",
              "      <td>6</td>\n",
              "      <td>148</td>\n",
              "      <td>72</td>\n",
              "      <td>35</td>\n",
              "      <td>0</td>\n",
              "      <td>33.6</td>\n",
              "      <td>0.627</td>\n",
              "      <td>50</td>\n",
              "      <td>1</td>\n",
              "    </tr>\n",
              "    <tr>\n",
              "      <th>1</th>\n",
              "      <td>1</td>\n",
              "      <td>85</td>\n",
              "      <td>66</td>\n",
              "      <td>29</td>\n",
              "      <td>0</td>\n",
              "      <td>26.6</td>\n",
              "      <td>0.351</td>\n",
              "      <td>31</td>\n",
              "      <td>0</td>\n",
              "    </tr>\n",
              "    <tr>\n",
              "      <th>2</th>\n",
              "      <td>8</td>\n",
              "      <td>183</td>\n",
              "      <td>64</td>\n",
              "      <td>0</td>\n",
              "      <td>0</td>\n",
              "      <td>23.3</td>\n",
              "      <td>0.672</td>\n",
              "      <td>32</td>\n",
              "      <td>1</td>\n",
              "    </tr>\n",
              "    <tr>\n",
              "      <th>3</th>\n",
              "      <td>1</td>\n",
              "      <td>89</td>\n",
              "      <td>66</td>\n",
              "      <td>23</td>\n",
              "      <td>94</td>\n",
              "      <td>28.1</td>\n",
              "      <td>0.167</td>\n",
              "      <td>21</td>\n",
              "      <td>0</td>\n",
              "    </tr>\n",
              "    <tr>\n",
              "      <th>4</th>\n",
              "      <td>0</td>\n",
              "      <td>137</td>\n",
              "      <td>40</td>\n",
              "      <td>35</td>\n",
              "      <td>168</td>\n",
              "      <td>43.1</td>\n",
              "      <td>2.288</td>\n",
              "      <td>33</td>\n",
              "      <td>1</td>\n",
              "    </tr>\n",
              "    <tr>\n",
              "      <th>5</th>\n",
              "      <td>5</td>\n",
              "      <td>116</td>\n",
              "      <td>74</td>\n",
              "      <td>0</td>\n",
              "      <td>0</td>\n",
              "      <td>25.6</td>\n",
              "      <td>0.201</td>\n",
              "      <td>30</td>\n",
              "      <td>0</td>\n",
              "    </tr>\n",
              "    <tr>\n",
              "      <th>6</th>\n",
              "      <td>3</td>\n",
              "      <td>78</td>\n",
              "      <td>50</td>\n",
              "      <td>32</td>\n",
              "      <td>88</td>\n",
              "      <td>31.0</td>\n",
              "      <td>0.248</td>\n",
              "      <td>26</td>\n",
              "      <td>1</td>\n",
              "    </tr>\n",
              "    <tr>\n",
              "      <th>7</th>\n",
              "      <td>10</td>\n",
              "      <td>115</td>\n",
              "      <td>0</td>\n",
              "      <td>0</td>\n",
              "      <td>0</td>\n",
              "      <td>35.3</td>\n",
              "      <td>0.134</td>\n",
              "      <td>29</td>\n",
              "      <td>0</td>\n",
              "    </tr>\n",
              "    <tr>\n",
              "      <th>8</th>\n",
              "      <td>2</td>\n",
              "      <td>197</td>\n",
              "      <td>70</td>\n",
              "      <td>45</td>\n",
              "      <td>543</td>\n",
              "      <td>30.5</td>\n",
              "      <td>0.158</td>\n",
              "      <td>53</td>\n",
              "      <td>1</td>\n",
              "    </tr>\n",
              "    <tr>\n",
              "      <th>9</th>\n",
              "      <td>8</td>\n",
              "      <td>125</td>\n",
              "      <td>96</td>\n",
              "      <td>0</td>\n",
              "      <td>0</td>\n",
              "      <td>0.0</td>\n",
              "      <td>0.232</td>\n",
              "      <td>54</td>\n",
              "      <td>1</td>\n",
              "    </tr>\n",
              "    <tr>\n",
              "      <th>10</th>\n",
              "      <td>4</td>\n",
              "      <td>110</td>\n",
              "      <td>92</td>\n",
              "      <td>0</td>\n",
              "      <td>0</td>\n",
              "      <td>37.6</td>\n",
              "      <td>0.191</td>\n",
              "      <td>30</td>\n",
              "      <td>0</td>\n",
              "    </tr>\n",
              "    <tr>\n",
              "      <th>11</th>\n",
              "      <td>10</td>\n",
              "      <td>168</td>\n",
              "      <td>74</td>\n",
              "      <td>0</td>\n",
              "      <td>0</td>\n",
              "      <td>38.0</td>\n",
              "      <td>0.537</td>\n",
              "      <td>34</td>\n",
              "      <td>1</td>\n",
              "    </tr>\n",
              "  </tbody>\n",
              "</table>\n",
              "</div>"
            ],
            "text/plain": [
              "    Pregnancies  Glucose  BloodPressure  SkinThickness  Insulin   BMI  DiabetesPedigreeFunction  Age  Outcome\n",
              "0             6      148             72             35        0  33.6                     0.627   50        1\n",
              "1             1       85             66             29        0  26.6                     0.351   31        0\n",
              "2             8      183             64              0        0  23.3                     0.672   32        1\n",
              "3             1       89             66             23       94  28.1                     0.167   21        0\n",
              "4             0      137             40             35      168  43.1                     2.288   33        1\n",
              "5             5      116             74              0        0  25.6                     0.201   30        0\n",
              "6             3       78             50             32       88  31.0                     0.248   26        1\n",
              "7            10      115              0              0        0  35.3                     0.134   29        0\n",
              "8             2      197             70             45      543  30.5                     0.158   53        1\n",
              "9             8      125             96              0        0   0.0                     0.232   54        1\n",
              "10            4      110             92              0        0  37.6                     0.191   30        0\n",
              "11           10      168             74              0        0  38.0                     0.537   34        1"
            ]
          },
          "execution_count": 6,
          "metadata": {},
          "output_type": "execute_result"
        }
      ],
      "source": [
        "# Muestra las primeras n filas del Dataframe\n",
        "Data.head(12)"
      ]
    },
    {
      "cell_type": "code",
      "execution_count": null,
      "id": "4f973d81",
      "metadata": {
        "id": "4f973d81",
        "outputId": "fb24a375-ff9e-476e-f17d-fd60d21726ef"
      },
      "outputs": [
        {
          "data": {
            "text/html": [
              "<div>\n",
              "<style scoped>\n",
              "    .dataframe tbody tr th:only-of-type {\n",
              "        vertical-align: middle;\n",
              "    }\n",
              "\n",
              "    .dataframe tbody tr th {\n",
              "        vertical-align: top;\n",
              "    }\n",
              "\n",
              "    .dataframe thead th {\n",
              "        text-align: right;\n",
              "    }\n",
              "</style>\n",
              "<table border=\"1\" class=\"dataframe\">\n",
              "  <thead>\n",
              "    <tr style=\"text-align: right;\">\n",
              "      <th></th>\n",
              "      <th>Pregnancies</th>\n",
              "      <th>Glucose</th>\n",
              "      <th>BloodPressure</th>\n",
              "      <th>SkinThickness</th>\n",
              "      <th>Insulin</th>\n",
              "      <th>BMI</th>\n",
              "      <th>DiabetesPedigreeFunction</th>\n",
              "      <th>Age</th>\n",
              "      <th>Outcome</th>\n",
              "    </tr>\n",
              "  </thead>\n",
              "  <tbody>\n",
              "    <tr>\n",
              "      <th>758</th>\n",
              "      <td>1</td>\n",
              "      <td>106</td>\n",
              "      <td>76</td>\n",
              "      <td>0</td>\n",
              "      <td>0</td>\n",
              "      <td>37.5</td>\n",
              "      <td>0.197</td>\n",
              "      <td>26</td>\n",
              "      <td>0</td>\n",
              "    </tr>\n",
              "    <tr>\n",
              "      <th>759</th>\n",
              "      <td>6</td>\n",
              "      <td>190</td>\n",
              "      <td>92</td>\n",
              "      <td>0</td>\n",
              "      <td>0</td>\n",
              "      <td>35.5</td>\n",
              "      <td>0.278</td>\n",
              "      <td>66</td>\n",
              "      <td>1</td>\n",
              "    </tr>\n",
              "    <tr>\n",
              "      <th>760</th>\n",
              "      <td>2</td>\n",
              "      <td>88</td>\n",
              "      <td>58</td>\n",
              "      <td>26</td>\n",
              "      <td>16</td>\n",
              "      <td>28.4</td>\n",
              "      <td>0.766</td>\n",
              "      <td>22</td>\n",
              "      <td>0</td>\n",
              "    </tr>\n",
              "    <tr>\n",
              "      <th>761</th>\n",
              "      <td>9</td>\n",
              "      <td>170</td>\n",
              "      <td>74</td>\n",
              "      <td>31</td>\n",
              "      <td>0</td>\n",
              "      <td>44.0</td>\n",
              "      <td>0.403</td>\n",
              "      <td>43</td>\n",
              "      <td>1</td>\n",
              "    </tr>\n",
              "    <tr>\n",
              "      <th>762</th>\n",
              "      <td>9</td>\n",
              "      <td>89</td>\n",
              "      <td>62</td>\n",
              "      <td>0</td>\n",
              "      <td>0</td>\n",
              "      <td>22.5</td>\n",
              "      <td>0.142</td>\n",
              "      <td>33</td>\n",
              "      <td>0</td>\n",
              "    </tr>\n",
              "    <tr>\n",
              "      <th>763</th>\n",
              "      <td>10</td>\n",
              "      <td>101</td>\n",
              "      <td>76</td>\n",
              "      <td>48</td>\n",
              "      <td>180</td>\n",
              "      <td>32.9</td>\n",
              "      <td>0.171</td>\n",
              "      <td>63</td>\n",
              "      <td>0</td>\n",
              "    </tr>\n",
              "    <tr>\n",
              "      <th>764</th>\n",
              "      <td>2</td>\n",
              "      <td>122</td>\n",
              "      <td>70</td>\n",
              "      <td>27</td>\n",
              "      <td>0</td>\n",
              "      <td>36.8</td>\n",
              "      <td>0.340</td>\n",
              "      <td>27</td>\n",
              "      <td>0</td>\n",
              "    </tr>\n",
              "    <tr>\n",
              "      <th>765</th>\n",
              "      <td>5</td>\n",
              "      <td>121</td>\n",
              "      <td>72</td>\n",
              "      <td>23</td>\n",
              "      <td>112</td>\n",
              "      <td>26.2</td>\n",
              "      <td>0.245</td>\n",
              "      <td>30</td>\n",
              "      <td>0</td>\n",
              "    </tr>\n",
              "    <tr>\n",
              "      <th>766</th>\n",
              "      <td>1</td>\n",
              "      <td>126</td>\n",
              "      <td>60</td>\n",
              "      <td>0</td>\n",
              "      <td>0</td>\n",
              "      <td>30.1</td>\n",
              "      <td>0.349</td>\n",
              "      <td>47</td>\n",
              "      <td>1</td>\n",
              "    </tr>\n",
              "    <tr>\n",
              "      <th>767</th>\n",
              "      <td>1</td>\n",
              "      <td>93</td>\n",
              "      <td>70</td>\n",
              "      <td>31</td>\n",
              "      <td>0</td>\n",
              "      <td>30.4</td>\n",
              "      <td>0.315</td>\n",
              "      <td>23</td>\n",
              "      <td>0</td>\n",
              "    </tr>\n",
              "  </tbody>\n",
              "</table>\n",
              "</div>"
            ],
            "text/plain": [
              "     Pregnancies  Glucose  BloodPressure  SkinThickness  Insulin   BMI  DiabetesPedigreeFunction  Age  Outcome\n",
              "758            1      106             76              0        0  37.5                     0.197   26        0\n",
              "759            6      190             92              0        0  35.5                     0.278   66        1\n",
              "760            2       88             58             26       16  28.4                     0.766   22        0\n",
              "761            9      170             74             31        0  44.0                     0.403   43        1\n",
              "762            9       89             62              0        0  22.5                     0.142   33        0\n",
              "763           10      101             76             48      180  32.9                     0.171   63        0\n",
              "764            2      122             70             27        0  36.8                     0.340   27        0\n",
              "765            5      121             72             23      112  26.2                     0.245   30        0\n",
              "766            1      126             60              0        0  30.1                     0.349   47        1\n",
              "767            1       93             70             31        0  30.4                     0.315   23        0"
            ]
          },
          "execution_count": 7,
          "metadata": {},
          "output_type": "execute_result"
        }
      ],
      "source": [
        "# Muestra las últimas n filas del Dataframe\n",
        "Data.tail(10)"
      ]
    },
    {
      "cell_type": "code",
      "execution_count": null,
      "id": "44a3a602",
      "metadata": {
        "id": "44a3a602",
        "outputId": "2e9ebd18-adcd-44b1-dffd-975fffff3155"
      },
      "outputs": [
        {
          "data": {
            "text/plain": [
              "(768, 9)"
            ]
          },
          "execution_count": 8,
          "metadata": {},
          "output_type": "execute_result"
        }
      ],
      "source": [
        "#Muestra el número de filas y columnas\n",
        "Data.shape"
      ]
    },
    {
      "cell_type": "code",
      "execution_count": null,
      "id": "a3a0cdac",
      "metadata": {
        "scrolled": true,
        "id": "a3a0cdac",
        "outputId": "0f65f766-622d-48bb-dbe9-599ebc42a23c"
      },
      "outputs": [
        {
          "data": {
            "text/plain": [
              "<bound method DataFrame.info of      Pregnancies  Glucose  BloodPressure  SkinThickness  Insulin   BMI  DiabetesPedigreeFunction  Age  Outcome\n",
              "0              6      148             72             35        0  33.6                     0.627   50        1\n",
              "1              1       85             66             29        0  26.6                     0.351   31        0\n",
              "2              8      183             64              0        0  23.3                     0.672   32        1\n",
              "3              1       89             66             23       94  28.1                     0.167   21        0\n",
              "4              0      137             40             35      168  43.1                     2.288   33        1\n",
              "..           ...      ...            ...            ...      ...   ...                       ...  ...      ...\n",
              "763           10      101             76             48      180  32.9                     0.171   63        0\n",
              "764            2      122             70             27        0  36.8                     0.340   27        0\n",
              "765            5      121             72             23      112  26.2                     0.245   30        0\n",
              "766            1      126             60              0        0  30.1                     0.349   47        1\n",
              "767            1       93             70             31        0  30.4                     0.315   23        0\n",
              "\n",
              "[768 rows x 9 columns]>"
            ]
          },
          "execution_count": 9,
          "metadata": {},
          "output_type": "execute_result"
        }
      ],
      "source": [
        "# Muestra Índice, tipo de datos y memoria\n",
        "Data.info"
      ]
    },
    {
      "cell_type": "markdown",
      "id": "a587d34f",
      "metadata": {
        "id": "a587d34f"
      },
      "source": [
        "# Cambiar atributos del DataFrame"
      ]
    },
    {
      "cell_type": "code",
      "execution_count": null,
      "id": "7f910dfd",
      "metadata": {
        "id": "7f910dfd",
        "outputId": "198ba09d-cb76-4e37-90ff-ff465f46bbb5"
      },
      "outputs": [
        {
          "name": "stdout",
          "output_type": "stream",
          "text": [
            "     Temperature              L          R    A_M  Color Spectral_Class  Type\n",
            "0           3068       0.002400     0.1700  16.12    Red              M     0\n",
            "1           3042       0.000500     0.1542  16.60    Red              M     0\n",
            "2           2600       0.000300     0.1020  18.70    Red              M     0\n",
            "3           2800       0.000200     0.1600  16.65    Red              M     0\n",
            "4           1939       0.000138     0.1030  20.06    Red              M     0\n",
            "..           ...            ...        ...    ...    ...            ...   ...\n",
            "235        38940  374830.000000  1356.0000  -9.93   Blue              O     5\n",
            "236        30839  834042.000000  1194.0000 -10.63   Blue              O     5\n",
            "237         8829  537493.000000  1423.0000 -10.73  White              A     5\n",
            "238         9235  404940.000000  1112.0000 -11.23  White              A     5\n",
            "239        37882  294903.000000  1783.0000  -7.80   Blue              O     5\n",
            "\n",
            "[240 rows x 7 columns]\n"
          ]
        }
      ],
      "source": [
        "#Cambiar los nombres de las columnas de un dataset\n",
        "\n",
        "#Cargamos un Dataset sobre 240 estrellas\n",
        "Starsdata = pd.read_csv('Stars.csv')\n",
        "\n",
        "print(Starsdata)"
      ]
    },
    {
      "cell_type": "code",
      "execution_count": null,
      "id": "90212380",
      "metadata": {
        "id": "90212380",
        "outputId": "4bb4d35a-60c8-4009-8d25-897a1b82f00a"
      },
      "outputs": [
        {
          "name": "stdout",
          "output_type": "stream",
          "text": [
            "     Temperatura    luminosidad      Radio  Magnitud Abs  Color Clase Espectral   Tipo\n",
            "0           3068       0.002400     0.1700         16.12    Red                M     0\n",
            "1           3042       0.000500     0.1542         16.60    Red                M     0\n",
            "2           2600       0.000300     0.1020         18.70    Red                M     0\n",
            "3           2800       0.000200     0.1600         16.65    Red                M     0\n",
            "4           1939       0.000138     0.1030         20.06    Red                M     0\n",
            "..           ...            ...        ...           ...    ...              ...   ...\n",
            "235        38940  374830.000000  1356.0000         -9.93   Blue                O     5\n",
            "236        30839  834042.000000  1194.0000        -10.63   Blue                O     5\n",
            "237         8829  537493.000000  1423.0000        -10.73  White                A     5\n",
            "238         9235  404940.000000  1112.0000        -11.23  White                A     5\n",
            "239        37882  294903.000000  1783.0000         -7.80   Blue                O     5\n",
            "\n",
            "[240 rows x 7 columns]\n"
          ]
        }
      ],
      "source": [
        "# Cambiamos el nombre de las columnas\n",
        "Starsdata.columns = ['Temperatura', 'luminosidad', 'Radio', 'Magnitud Abs', 'Color', 'Clase Espectral ', 'Tipo']\n",
        "\n",
        "print (Starsdata)"
      ]
    },
    {
      "cell_type": "markdown",
      "id": "3b6d129e",
      "metadata": {
        "id": "3b6d129e"
      },
      "source": [
        "# Algunos usos de la líbrería Numpy (numerical Python)"
      ]
    },
    {
      "cell_type": "code",
      "execution_count": null,
      "id": "fe874445",
      "metadata": {
        "id": "fe874445",
        "outputId": "be07bdc1-8031-40e2-9f90-1b943f1488e4"
      },
      "outputs": [
        {
          "name": "stdout",
          "output_type": "stream",
          "text": [
            "1.21.5\n"
          ]
        }
      ],
      "source": [
        "#importar Numpy y verificar su versión\n",
        "import numpy as np\n",
        "print(np.__version__)"
      ]
    },
    {
      "cell_type": "markdown",
      "id": "d2406d01",
      "metadata": {
        "id": "d2406d01"
      },
      "source": [
        "# Crear arrays de datos"
      ]
    },
    {
      "cell_type": "code",
      "execution_count": null,
      "id": "24d8e598",
      "metadata": {
        "id": "24d8e598",
        "outputId": "da6ce7fe-d278-4e8f-e282-87c20059c9c7"
      },
      "outputs": [
        {
          "name": "stdout",
          "output_type": "stream",
          "text": [
            "array is [ 2  4  6  9 11]\n",
            "Type is int32\n",
            "Shape is (5,)\n"
          ]
        }
      ],
      "source": [
        "#Crear un array\n",
        "\n",
        "array = np.array([2,4,6,9,11])\n",
        "\n",
        "# Muestra su contenido\n",
        "print(f'array is {array}')\n",
        "# Muestra el tipo de dato\n",
        "print(f'Type is {array.dtype}')\n",
        "#muestra el número de datos contenidos\n",
        "print(f'Shape is {array.shape}')"
      ]
    },
    {
      "cell_type": "code",
      "execution_count": null,
      "id": "8e58c518",
      "metadata": {
        "scrolled": true,
        "id": "8e58c518",
        "outputId": "2c370900-323a-4aa1-a0a4-de07678285bd"
      },
      "outputs": [
        {
          "data": {
            "text/plain": [
              "array([  1,  11,  21,  31,  41,  51,  61,  71,  81,  91, 101, 111, 121,\n",
              "       131, 141, 151, 161, 171, 181, 191])"
            ]
          },
          "execution_count": 16,
          "metadata": {},
          "output_type": "execute_result"
        }
      ],
      "source": [
        "# Crea un array de datos consecutivos con n datos contenidos\n",
        "# inicio, final, paso, tipo de dato del paso (float o int)\n",
        "\n",
        "array = np.arange(1, 200, 10, int)\n",
        "array"
      ]
    },
    {
      "cell_type": "markdown",
      "id": "792c9cc8",
      "metadata": {
        "id": "792c9cc8"
      },
      "source": [
        "# Redimensionar los arrays"
      ]
    },
    {
      "cell_type": "code",
      "execution_count": null,
      "id": "9492a951",
      "metadata": {
        "scrolled": true,
        "id": "9492a951",
        "outputId": "7bde11fc-f47d-4771-a297-fdd49cb446e4"
      },
      "outputs": [
        {
          "name": "stdout",
          "output_type": "stream",
          "text": [
            "array is [[ 0  1  2  3  4  5]\n",
            " [ 6  7  8  9 10 11]\n",
            " [12 13 14 15 16 17]\n",
            " [18 19 20 21 22 23]\n",
            " [24 25 26 27 28 29]]\n",
            "Type is int32\n",
            "Shape is (5, 6)\n"
          ]
        }
      ],
      "source": [
        "#podemos redimensionar el array. Trasforma un arreglo de datos (lista) en una matriz de filas y columnas\n",
        "\n",
        "arr = np.arange(30).reshape(5, 6)\n",
        "\n",
        "print(f'array is {arr}')\n",
        "print(f'Type is {arr.dtype}')\n",
        "print(f'Shape is {arr.shape}')"
      ]
    },
    {
      "cell_type": "code",
      "execution_count": null,
      "id": "b19b3715",
      "metadata": {
        "id": "b19b3715",
        "outputId": "009deb11-edc5-42ca-f6cb-8582462616ad"
      },
      "outputs": [
        {
          "name": "stdout",
          "output_type": "stream",
          "text": [
            "np.zeros((2,3)= \n",
            "[[0. 0. 0.]\n",
            " [0. 0. 0.]]\n",
            "\n"
          ]
        }
      ],
      "source": [
        "#Crear matrices contenidos por ceros\n",
        "\n",
        "a = np.zeros((2,3))\n",
        "print('np.zeros((2,3)= \\n{}\\n'.format(a))\n"
      ]
    },
    {
      "cell_type": "code",
      "execution_count": null,
      "id": "31b50e58",
      "metadata": {
        "id": "31b50e58",
        "outputId": "30a2a343-6e5b-46d0-c51d-2b0aa188ad07"
      },
      "outputs": [
        {
          "name": "stdout",
          "output_type": "stream",
          "text": [
            "np.ones((2,3))= \n",
            "[[1. 1. 1.]\n",
            " [1. 1. 1.]]\n",
            "\n"
          ]
        }
      ],
      "source": [
        "#Crear matrices contenidos por unos\n",
        "\n",
        "b = np.ones((2,3))\n",
        "print('np.ones((2,3))= \\n{}\\n'.format(b))"
      ]
    },
    {
      "cell_type": "code",
      "execution_count": null,
      "id": "210a241c",
      "metadata": {
        "scrolled": true,
        "id": "210a241c",
        "outputId": "5528c721-ca0d-46ea-b68d-794c9bbc9e33"
      },
      "outputs": [
        {
          "name": "stdout",
          "output_type": "stream",
          "text": [
            "[[[0.3348475  0.68161626 0.7219681  0.23353758]\n",
            "  [0.72359951 0.930379   0.16707265 0.61688377]\n",
            "  [0.67235962 0.05912127 0.6028877  0.16489252]]\n",
            "\n",
            " [[0.0211061  0.7967258  0.2385372  0.87174909]\n",
            "  [0.97015672 0.44411834 0.60518133 0.39838112]\n",
            "  [0.88747137 0.28764862 0.1633295  0.3218982 ]]\n",
            "\n",
            " [[0.34005676 0.25366697 0.92757323 0.28864327]\n",
            "  [0.7803093  0.93834253 0.18423688 0.50763885]\n",
            "  [0.7230979  0.08729527 0.69085014 0.70852899]]\n",
            "\n",
            " [[0.00501976 0.41459246 0.76756436 0.45864229]\n",
            "  [0.17172994 0.24951035 0.41444479 0.83407877]\n",
            "  [0.38091692 0.08445    0.02229124 0.59312513]]\n",
            "\n",
            " [[0.83925762 0.9713138  0.68282214 0.45129378]\n",
            "  [0.73323417 0.08843633 0.9345493  0.1569544 ]\n",
            "  [0.99184637 0.88106208 0.58915275 0.94187746]]]\n"
          ]
        }
      ],
      "source": [
        "#Crear matrices con datos aleatorios\n",
        "\n",
        "#número de matrices, filas de cada matriz y número de columnas\n",
        "\n",
        "f = np.random.random((5,3,4))\n",
        "\n",
        "print(f)"
      ]
    },
    {
      "cell_type": "markdown",
      "id": "44e49728",
      "metadata": {
        "id": "44e49728"
      },
      "source": [
        "# Operaciones especiales con datos"
      ]
    },
    {
      "cell_type": "code",
      "execution_count": null,
      "id": "a9a555da",
      "metadata": {
        "scrolled": true,
        "id": "a9a555da",
        "outputId": "6a8652d4-47b4-49fa-8394-e25400ab79e3"
      },
      "outputs": [
        {
          "name": "stdout",
          "output_type": "stream",
          "text": [
            "[ 1  2  3  4  5  6  7  8  9 10 11 12 13 14 15 16 17 18 19]\n",
            "Sqrt:  [1.         1.41421356 1.73205081 2.         2.23606798 2.44948974\n",
            " 2.64575131 2.82842712 3.         3.16227766 3.31662479 3.46410162\n",
            " 3.60555128 3.74165739 3.87298335 4.         4.12310563 4.24264069\n",
            " 4.35889894]\n",
            "Exp:  [2.71828183e+00 7.38905610e+00 2.00855369e+01 5.45981500e+01\n",
            " 1.48413159e+02 4.03428793e+02 1.09663316e+03 2.98095799e+03\n",
            " 8.10308393e+03 2.20264658e+04 5.98741417e+04 1.62754791e+05\n",
            " 4.42413392e+05 1.20260428e+06 3.26901737e+06 8.88611052e+06\n",
            " 2.41549528e+07 6.56599691e+07 1.78482301e+08]\n",
            "Sin:  [ 0.84147098  0.90929743  0.14112001 -0.7568025  -0.95892427 -0.2794155\n",
            "  0.6569866   0.98935825  0.41211849 -0.54402111 -0.99999021 -0.53657292\n",
            "  0.42016704  0.99060736  0.65028784 -0.28790332 -0.96139749 -0.75098725\n",
            "  0.14987721]\n",
            "Cos:  [ 0.54030231 -0.41614684 -0.9899925  -0.65364362  0.28366219  0.96017029\n",
            "  0.75390225 -0.14550003 -0.91113026 -0.83907153  0.0044257   0.84385396\n",
            "  0.90744678  0.13673722 -0.75968791 -0.95765948 -0.27516334  0.66031671\n",
            "  0.98870462]\n",
            "Log:  [0.         0.69314718 1.09861229 1.38629436 1.60943791 1.79175947\n",
            " 1.94591015 2.07944154 2.19722458 2.30258509 2.39789527 2.48490665\n",
            " 2.56494936 2.63905733 2.7080502  2.77258872 2.83321334 2.89037176\n",
            " 2.94443898]\n",
            "Sum:  190\n",
            "Std:  5.477225575051661\n"
          ]
        }
      ],
      "source": [
        "# Operaciones especiales con datos (Raíz cuadrada, exponencial, senos, coseno, logaritmo, sumatoria o desviación estandar)\n",
        "\n",
        "arr = np.arange(1,20)\n",
        "print(arr)\n",
        "print(\"Sqrt: \",np.sqrt(arr)) # Regresa la raiz cuadrada de cada elemento\n",
        "print(\"Exp: \",np.exp(arr))   # Exponencial\n",
        "print(\"Sin: \",np.sin(arr))   # Seno en radianes\n",
        "print(\"Cos: \",np.cos(arr))   # Coseno en radianes\n",
        "print(\"Log: \",np.log(arr))   # Logaritmo de cada elemento\n",
        "print(\"Sum: \",np.sum(arr))   # Sumatoria del arreglo\n",
        "print(\"Std: \",np.std(arr))   # Desviación"
      ]
    },
    {
      "cell_type": "markdown",
      "id": "62e5810c",
      "metadata": {
        "id": "62e5810c"
      },
      "source": [
        "# Algebra Lineal"
      ]
    },
    {
      "cell_type": "code",
      "execution_count": null,
      "id": "a9b3fcd5",
      "metadata": {
        "id": "a9b3fcd5",
        "outputId": "95789e24-1da2-4b32-fb8a-3e1c898aa703"
      },
      "outputs": [
        {
          "data": {
            "text/plain": [
              "array([[1., 2.],\n",
              "       [3., 4.]])"
            ]
          },
          "execution_count": 25,
          "metadata": {},
          "output_type": "execute_result"
        }
      ],
      "source": [
        "# Algebra lineal\n",
        "\n",
        "a = np.array([[1.0, 2.0], [3.0, 4.0]])\n",
        "a\n"
      ]
    },
    {
      "cell_type": "code",
      "execution_count": null,
      "id": "b0354c89",
      "metadata": {
        "id": "b0354c89",
        "outputId": "3811d6ca-f2a0-483b-ca84-c01a96abf165"
      },
      "outputs": [
        {
          "data": {
            "text/plain": [
              "array([[1., 3.],\n",
              "       [2., 4.]])"
            ]
          },
          "execution_count": 60,
          "metadata": {},
          "output_type": "execute_result"
        }
      ],
      "source": [
        "# Transpuesta\n",
        "\n",
        "a.transpose()"
      ]
    },
    {
      "cell_type": "code",
      "execution_count": null,
      "id": "a6037273",
      "metadata": {
        "id": "a6037273",
        "outputId": "bd8af582-c2f5-4d2e-9bef-bdbf599e168d"
      },
      "outputs": [
        {
          "data": {
            "text/plain": [
              "array([[-2. ,  1. ],\n",
              "       [ 1.5, -0.5]])"
            ]
          },
          "execution_count": 26,
          "metadata": {},
          "output_type": "execute_result"
        }
      ],
      "source": [
        "# Inversa\n",
        "\n",
        "np.linalg.inv(a)"
      ]
    },
    {
      "cell_type": "code",
      "execution_count": null,
      "id": "aec624e2",
      "metadata": {
        "id": "aec624e2",
        "outputId": "0abf9202-93cf-42f6-c03e-8a20e222c0f7"
      },
      "outputs": [
        {
          "data": {
            "text/plain": [
              "array([[1., 0., 0., 0., 0., 0.],\n",
              "       [0., 1., 0., 0., 0., 0.],\n",
              "       [0., 0., 1., 0., 0., 0.],\n",
              "       [0., 0., 0., 1., 0., 0.],\n",
              "       [0., 0., 0., 0., 1., 0.],\n",
              "       [0., 0., 0., 0., 0., 1.]])"
            ]
          },
          "execution_count": 27,
          "metadata": {},
          "output_type": "execute_result"
        }
      ],
      "source": [
        "# Unos en la diagonal principal y el resto en ceros\n",
        "\n",
        "u = np.eye(6)\n",
        "u"
      ]
    },
    {
      "cell_type": "markdown",
      "id": "bcd7dd38",
      "metadata": {
        "id": "bcd7dd38"
      },
      "source": [
        "# Algunos usos de la librería matplotlib"
      ]
    },
    {
      "cell_type": "code",
      "execution_count": null,
      "id": "74287d17",
      "metadata": {
        "id": "74287d17",
        "outputId": "896de6b2-15e1-45d1-c792-97b75c4c902e"
      },
      "outputs": [
        {
          "name": "stdout",
          "output_type": "stream",
          "text": [
            "     Temperature              L          R    A_M  Color Spectral_Class  Type\n",
            "0           3068       0.002400     0.1700  16.12    Red              M     0\n",
            "1           3042       0.000500     0.1542  16.60    Red              M     0\n",
            "2           2600       0.000300     0.1020  18.70    Red              M     0\n",
            "3           2800       0.000200     0.1600  16.65    Red              M     0\n",
            "4           1939       0.000138     0.1030  20.06    Red              M     0\n",
            "..           ...            ...        ...    ...    ...            ...   ...\n",
            "235        38940  374830.000000  1356.0000  -9.93   Blue              O     5\n",
            "236        30839  834042.000000  1194.0000 -10.63   Blue              O     5\n",
            "237         8829  537493.000000  1423.0000 -10.73  White              A     5\n",
            "238         9235  404940.000000  1112.0000 -11.23  White              A     5\n",
            "239        37882  294903.000000  1783.0000  -7.80   Blue              O     5\n",
            "\n",
            "[240 rows x 7 columns]\n"
          ]
        }
      ],
      "source": [
        "import matplotlib.pyplot as plt\n",
        "\n",
        "Starsdata = pd.read_csv('Stars.csv')\n",
        "print (Starsdata)"
      ]
    },
    {
      "cell_type": "markdown",
      "id": "7b91ee8b",
      "metadata": {
        "id": "7b91ee8b"
      },
      "source": [
        "# Histogramas"
      ]
    },
    {
      "cell_type": "code",
      "execution_count": null,
      "id": "a83ecaf2",
      "metadata": {
        "id": "a83ecaf2",
        "outputId": "679cb91d-2b1c-4c9c-fc4f-0805ecfa9a70"
      },
      "outputs": [
        {
          "data": {
            "image/png": "[encoded data removed]",
            "text/plain": [
              "<Figure size 640x480 with 1 Axes>"
            ]
          },
          "metadata": {},
          "output_type": "display_data"
        }
      ],
      "source": [
        "# Histograma que muestra la distribución de una variable\n",
        "# Dataset.variable.tipodegráfica\n",
        "# Muestra la frecuencia de estrellas según su temperatura\n",
        "\n",
        "Starsdata.Temperature.plot.hist()\n",
        "plt.show()"
      ]
    },
    {
      "cell_type": "markdown",
      "id": "b686c9e2",
      "metadata": {
        "id": "b686c9e2"
      },
      "source": [
        "# Gráficos de dispersión"
      ]
    },
    {
      "cell_type": "code",
      "execution_count": null,
      "id": "a4669b80",
      "metadata": {
        "id": "a4669b80",
        "outputId": "57fd0f7e-44a1-43be-ba1b-c8da505127c5"
      },
      "outputs": [
        {
          "data": {
            "image/png": "[encoded data removed]",
            "text/plain": [
              "<Figure size 640x480 with 1 Axes>"
            ]
          },
          "metadata": {},
          "output_type": "display_data"
        }
      ],
      "source": [
        "# De dispersión o scatter sirve para representar la relación entre dos variables en este caso Temperatura y luminosidad\n",
        "# Dataset,tipo de gráfico, variable eje X y eje Y, opacidad de los puntos\n",
        "\n",
        "Starsdata.plot.scatter(x=\"Temperature\", y=\"L\", alpha=0.6)\n",
        "plt.show()"
      ]
    },
    {
      "cell_type": "markdown",
      "id": "457cf843",
      "metadata": {
        "id": "457cf843"
      },
      "source": [
        "# Gráficos circulares"
      ]
    },
    {
      "cell_type": "code",
      "execution_count": null,
      "id": "efbf9319",
      "metadata": {
        "scrolled": true,
        "id": "efbf9319",
        "outputId": "90231bf8-e5fe-4c0b-b233-0f8ea621f128"
      },
      "outputs": [
        {
          "data": {
            "image/png": "[encoded data removed]",
            "text/plain": [
              "<Figure size 640x480 with 1 Axes>"
            ]
          },
          "metadata": {},
          "output_type": "display_data"
        }
      ],
      "source": [
        "# Se usa para Mostrar la relación porcentual entre las partes con relación a su conjunto.\n",
        "# Dataset, variable a representar (color de la estrella), tipo de gráfico.\n",
        "\n",
        "Starsdata.Color.value_counts().plot.pie()\n",
        "plt.show()"
      ]
    },
    {
      "cell_type": "markdown",
      "id": "bb81f0a4",
      "metadata": {
        "id": "bb81f0a4"
      },
      "source": [
        "# Algunos usos de la librería Seaborn"
      ]
    },
    {
      "cell_type": "code",
      "execution_count": null,
      "id": "564a535d",
      "metadata": {
        "colab": {
          "base_uri": "https://localhost:8080/",
          "height": 193
        },
        "id": "564a535d",
        "outputId": "5f472cec-f0b6-420f-a3bd-f9c1bfec96b4"
      },
      "outputs": [
        {
          "output_type": "error",
          "ename": "NameError",
          "evalue": "name 'pd' is not defined",
          "traceback": [
            "\u001b[0;31m---------------------------------------------------------------------------\u001b[0m",
            "\u001b[0;31mNameError\u001b[0m                                 Traceback (most recent call last)",
            "\u001b[0;32m<ipython-input-3-8e973aa864ee>\u001b[0m in \u001b[0;36m<cell line: 6>\u001b[0;34m()\u001b[0m\n\u001b[1;32m      4\u001b[0m \u001b[0;31m# Se carga del dataset de datos estrellas\u001b[0m\u001b[0;34m\u001b[0m\u001b[0;34m\u001b[0m\u001b[0m\n\u001b[1;32m      5\u001b[0m \u001b[0;34m\u001b[0m\u001b[0m\n\u001b[0;32m----> 6\u001b[0;31m \u001b[0mdata\u001b[0m \u001b[0;34m=\u001b[0m \u001b[0mpd\u001b[0m\u001b[0;34m.\u001b[0m\u001b[0mread_csv\u001b[0m\u001b[0;34m(\u001b[0m\u001b[0;34m'Stars.csv'\u001b[0m\u001b[0;34m)\u001b[0m\u001b[0;34m\u001b[0m\u001b[0;34m\u001b[0m\u001b[0m\n\u001b[0m\u001b[1;32m      7\u001b[0m \u001b[0mprint\u001b[0m \u001b[0;34m(\u001b[0m\u001b[0mdata\u001b[0m\u001b[0;34m)\u001b[0m\u001b[0;34m\u001b[0m\u001b[0;34m\u001b[0m\u001b[0m\n",
            "\u001b[0;31mNameError\u001b[0m: name 'pd' is not defined"
          ]
        }
      ],
      "source": [
        "# Se importa la librería\n",
        "import seaborn as sns\n",
        "\n",
        "# Se carga del dataset de datos estrellas\n",
        "\n",
        "data = pd.read_csv('Stars.csv')\n",
        "print (data)"
      ]
    },
    {
      "cell_type": "markdown",
      "id": "c3c8f453",
      "metadata": {
        "id": "c3c8f453"
      },
      "source": [
        "# Modelo lineal (lm)\n"
      ]
    },
    {
      "cell_type": "code",
      "execution_count": null,
      "id": "b5f05987",
      "metadata": {
        "scrolled": true,
        "id": "b5f05987",
        "outputId": "04db72c4-f832-4e80-8912-4fa9a87b6a06"
      },
      "outputs": [
        {
          "data": {
            "text/plain": [
              "<seaborn.axisgrid.FacetGrid at 0x290bb479670>"
            ]
          },
          "execution_count": 34,
          "metadata": {},
          "output_type": "execute_result"
        },
        {
          "data": {
            "image/png": "[encoded data removed]",
            "text/plain": [
              "<Figure size 500x500 with 1 Axes>"
            ]
          },
          "metadata": {},
          "output_type": "display_data"
        }
      ],
      "source": [
        "# La función sns.lmplot ajustará una línea a sus datos relacionar variables\n",
        "\n",
        "sns.lmplot(x='Temperature', y='L', data=data)"
      ]
    },
    {
      "cell_type": "markdown",
      "id": "412d3182",
      "metadata": {
        "id": "412d3182"
      },
      "source": [
        "# Gráfica de dispersión"
      ]
    },
    {
      "cell_type": "code",
      "execution_count": null,
      "id": "5c9bb8db",
      "metadata": {
        "colab": {
          "base_uri": "https://localhost:8080/",
          "height": 176
        },
        "id": "5c9bb8db",
        "outputId": "de6f5de6-9b28-4bde-d891-9015bc03b150"
      },
      "outputs": [
        {
          "output_type": "error",
          "ename": "NameError",
          "evalue": "name 'sns' is not defined",
          "traceback": [
            "\u001b[0;31m---------------------------------------------------------------------------\u001b[0m",
            "\u001b[0;31mNameError\u001b[0m                                 Traceback (most recent call last)",
            "\u001b[0;32m<ipython-input-1-1b64c4b850e4>\u001b[0m in \u001b[0;36m<cell line: 3>\u001b[0;34m()\u001b[0m\n\u001b[1;32m      1\u001b[0m \u001b[0;31m# A partir de la misma función lm anterior se puede establecer la función fit_reg en False para un diagrama de dispersión\u001b[0m\u001b[0;34m\u001b[0m\u001b[0;34m\u001b[0m\u001b[0m\n\u001b[1;32m      2\u001b[0m \u001b[0;34m\u001b[0m\u001b[0m\n\u001b[0;32m----> 3\u001b[0;31m \u001b[0msns\u001b[0m\u001b[0;34m.\u001b[0m\u001b[0mlmplot\u001b[0m\u001b[0;34m(\u001b[0m\u001b[0mx\u001b[0m\u001b[0;34m=\u001b[0m\u001b[0;34m'Temperature'\u001b[0m\u001b[0;34m,\u001b[0m \u001b[0my\u001b[0m\u001b[0;34m=\u001b[0m\u001b[0;34m'L'\u001b[0m\u001b[0;34m,\u001b[0m \u001b[0mdata\u001b[0m\u001b[0;34m=\u001b[0m\u001b[0mdata\u001b[0m\u001b[0;34m,\u001b[0m \u001b[0mfit_reg\u001b[0m\u001b[0;34m=\u001b[0m\u001b[0;32mFalse\u001b[0m\u001b[0;34m)\u001b[0m\u001b[0;34m\u001b[0m\u001b[0;34m\u001b[0m\u001b[0m\n\u001b[0m",
            "\u001b[0;31mNameError\u001b[0m: name 'sns' is not defined"
          ]
        }
      ],
      "source": [
        "# A partir de la misma función lm anterior se puede establecer la función fit_reg en False para un diagrama de dispersión\n",
        "\n",
        "sns.lmplot(x='Temperature', y='L', data=data, fit_reg=False)"
      ]
    },
    {
      "cell_type": "code",
      "execution_count": null,
      "id": "aeec2f80",
      "metadata": {
        "id": "aeec2f80",
        "outputId": "476799bb-f23c-4e51-da86-a0772cbf75c1"
      },
      "outputs": [
        {
          "data": {
            "text/plain": [
              "<AxesSubplot:xlabel='L', ylabel='Count'>"
            ]
          },
          "execution_count": 36,
          "metadata": {},
          "output_type": "execute_result"
        },
        {
          "data": {
            "image/png": "[encoded data removed]",
            "text/plain": [
              "<Figure size 640x480 with 1 Axes>"
            ]
          },
          "metadata": {},
          "output_type": "display_data"
        }
      ],
      "source": [
        "# Utilice sns.histplot () para trazar una gráfica de densidad / histograma (Luminosidad)\n",
        "\n",
        "sns.histplot(data['L'])"
      ]
    },
    {
      "cell_type": "code",
      "execution_count": null,
      "id": "2388d933",
      "metadata": {
        "id": "2388d933"
      },
      "outputs": [],
      "source": []
    }
  ],
  "metadata": {
    "kernelspec": {
      "display_name": "Python 3 (ipykernel)",
      "language": "python",
      "name": "python3"
    },
    "language_info": {
      "codemirror_mode": {
        "name": "ipython",
        "version": 3
      },
      "file_extension": ".py",
      "mimetype": "text/x-python",
      "name": "python",
      "nbconvert_exporter": "python",
      "pygments_lexer": "ipython3",
      "version": "3.10.9"
    },
    "colab": {
      "provenance": [],
      "include_colab_link": true
    }
  },
  "nbformat": 4,
  "nbformat_minor": 5
}